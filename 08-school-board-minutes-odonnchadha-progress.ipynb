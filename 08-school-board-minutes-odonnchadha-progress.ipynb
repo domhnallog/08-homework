{
 "cells": [
  {
   "cell_type": "markdown",
   "metadata": {},
   "source": [
    "# School Board Minutes\n",
    "\n",
    "Scrape all of the school board minutes from http://www.mineral.k12.nv.us/pages/School_Board_Minutes\n",
    "\n",
    "Save a CSV called `minutes.csv` with the date and the URL to the file. The date should be formatted as YYYY-MM-DD.\n",
    "\n",
    "**Bonus:** Download the PDF files\n",
    "\n",
    "**Bonus 2:** Use [PDF OCR X](https://solutions.weblite.ca/pdfocrx/index.php) on one of the PDF files and see if it can be converted into text successfully.\n",
    "\n",
    "* **Hint:** If you're just looking for links, there are a lot of other links on that page! Can you look at the link to know whether it links or minutes or not? You'll want to use an \"if\" statement.\n",
    "* **Hint:** You could also filter out bad links later on using pandas instead of when scraping\n",
    "* **Hint:** If you get a weird error that you can't really figure out, you can always tell Python to just ignore it using `try` and `except`, like below. Python will try to do the stuff inside of 'try', but if it hits an error it will skip right out.\n",
    "* **Hint:** Remember the codes at http://strftime.org\n",
    "* **Hint:** If you have a date that you've parsed, you can use `.dt.strftime` to turn it into a specially-formatted string. You use the same codes (like %B etc) that you use for converting strings into dates.\n",
    "\n",
    "```python\n",
    "try:\n",
    "  blah blah your code\n",
    "  your code\n",
    "  your code\n",
    "except:\n",
    "  pass\n",
    "```"
   ]
  },
  {
   "cell_type": "code",
   "execution_count": 25,
   "metadata": {},
   "outputs": [],
   "source": [
    "import requests\n",
    "import re\n",
    "import pandas as pd\n",
    "from datetime import datetime\n",
    "from bs4 import BeautifulSoup"
   ]
  },
  {
   "cell_type": "code",
   "execution_count": 2,
   "metadata": {},
   "outputs": [
    {
     "name": "stdout",
     "output_type": "stream",
     "text": [
      "<class 'bs4.BeautifulSoup'>\n"
     ]
    }
   ],
   "source": [
    "url = \"http://www.mineral.k12.nv.us/pages/School_Board_Minutes\"\n",
    "raw_html = requests.get(url).content\n",
    "soup_doc = BeautifulSoup(raw_html, \"html.parser\")\n",
    "print(type(soup_doc))"
   ]
  },
  {
   "cell_type": "code",
   "execution_count": 3,
   "metadata": {},
   "outputs": [],
   "source": [
    "### TEST VIEWS OF DATA\n",
    "# raw_html\n",
    "# print(soup_doc)\n",
    "# print(soup_doc.prettify())"
   ]
  },
  {
   "cell_type": "code",
   "execution_count": null,
   "metadata": {},
   "outputs": [],
   "source": [
    "### CODE BROKE BECAUSE OF MISORDERED TAGS IN 2018\n",
    "links = soup_doc.find_all('a')\n",
    "# links[25]\n",
    "# links[25]['href']\n",
    "# links[25].string\n",
    "# links[25].text\n",
    "# links[25]['span']\n",
    "# links[25]['color']\n",
    "\n",
    "# for link in links:\n",
    "#     if 'pdf' in link['href']:\n",
    "#         print(link.string)\n",
    "#         print(link['href'])\n",
    "#         print(link['span'])\n",
    "#         print('====================================================================')"
   ]
  },
  {
   "cell_type": "code",
   "execution_count": null,
   "metadata": {},
   "outputs": [],
   "source": [
    "### CONTINUED TESTING AROUND HREF\n",
    "links = soup_doc.find_all('a')\n",
    "# links[25]\n",
    "# links[25]['href']\n",
    "# links[25].string\n",
    "# links[25].text\n",
    "# links[25]['span']\n",
    "# links[25]['color']\n",
    "\n",
    "for link in links:\n",
    "    if 'pdf' in link['href']:\n",
    "        print('GOOD GOOD GOOD')\n",
    "#         print(link)\n",
    "        print(link.parent)\n",
    "    else:\n",
    "        print('no pdf')\n",
    "        print(link.parent)\n",
    "#         print(link.string)\n",
    "#         print(link['href'])\n",
    "#         print(link['span'])\n",
    "    print('====================================================================')"
   ]
  },
  {
   "cell_type": "code",
   "execution_count": null,
   "metadata": {},
   "outputs": [],
   "source": [
    "### INDIVIDUAL LINE TESTS\n",
    "# string = string.replace(u'\\xa0', u'')\n",
    "paras = soup_doc.find_all('p')[19:78]\n",
    "# links\n",
    "paras[1]\n",
    "# paras[1].contents\n",
    "# paras[1].find('a')\n",
    "# paras[1].a['href']"
   ]
  },
  {
   "cell_type": "code",
   "execution_count": 13,
   "metadata": {},
   "outputs": [
    {
     "data": {
      "text/plain": [
       "[['June 4, 2019', '/files/6.4.19_minutes.pdf'],\n",
       " ['May 28, 2019', '/files/5.28.19_minutes.pdf'],\n",
       " ['May 21, 2019 CANCELLED', 'http://'],\n",
       " ['May 7, 2019', '/files/5.7.19_minutes.pdf'],\n",
       " ['April 23, 2019', '/files/4.23.19_minutes.pdf'],\n",
       " ['April 8, 2019', '/files/4.8.19_minutes.pdf'],\n",
       " ['March 19, 2019', '/files/3.5.19_minutes.pdf'],\n",
       " ['March 5, 2019', '/files/3.5.19.pdf'],\n",
       " ['February 26, 2019', '/files/2.26.19_minutes.pdf'],\n",
       " ['February 5, 2019', '/files/2.5.19_minutes.pdf'],\n",
       " ['January 22, 2019', '/files/January_22_minutes.pdf'],\n",
       " ['January 8, 2019', '/files/January_8_minutes.pdf'],\n",
       " ['', 'http://'],\n",
       " ['2018 Board Meeting Minutes', 'http://'],\n",
       " ['December 20, 2018', '/files/12.20.18_minutes.pdf'],\n",
       " ['December 4, 2018', '/files/12.4.18_minutes.pdf'],\n",
       " ['November 20, 2018', '/files/11.20.18.pdf'],\n",
       " ['November 7, 2018', 'http://'],\n",
       " ['October 16, 2018', 'http://'],\n",
       " ['September 25, 2018', '/files/9.25.18_minutes.pdf'],\n",
       " ['September 13, 2018', '/files/9.13.18_minutes.pdf'],\n",
       " ['September 4, 2018', '/files/9.4.18.pdf'],\n",
       " ['August 21, 2018', '/files/8.21.18_minutes.pdf'],\n",
       " ['August 7, 2018', '/files/8.7.18_minutes.pdf'],\n",
       " ['July 24, 2018', '/files/7.24.18_minutes.pdf'],\n",
       " ['July 10, 2018', '/files/7.10.18_minutes.pdf'],\n",
       " ['June 28, 2018', '/files/6.28.18.pdf'],\n",
       " ['June 22, 2018', '/files/6.22.18_minutes.pdf'],\n",
       " ['June 21, 2018', '/files/6.21.18.pdf'],\n",
       " ['June 19, 2108 ', '/files/6.19.18_minutes.pdf'],\n",
       " ['June 6, 2018', 'http://'],\n",
       " ['May 29, 2018', '/files/5.29.18_minutes.pdf'],\n",
       " ['May 22,2018', 'http://'],\n",
       " ['May 15, 2018Canceled', 'http://'],\n",
       " ['May 1, 2018', 'http://'],\n",
       " ['April 17, 2018', '/files/4.17.18.pdf'],\n",
       " ['April 2, 2018 ', '/files/april_2,_2018_minutes.pdf'],\n",
       " ['March 27, 2018', 'http://'],\n",
       " ['March 22, 2018', 'http://'],\n",
       " ['March 20, 2018', 'http://'],\n",
       " ['March 8, 2018', '/files/3.8.18.pdf'],\n",
       " ['March 6, 2018', '/files/march_6,_2018_minutes.pdf'],\n",
       " ['February 20, 2018', '/files/feb_20,_2108_minutes.pdf'],\n",
       " ['February 6, 2018', '/files/2.6.18_minutes.pdf'],\n",
       " ['January 16, 2018', '/files/january_16,_2018_minutes.pdf'],\n",
       " ['January 2, 2018', '/files/2.6.18_minutes.pdf'],\n",
       " ['', 'http://'],\n",
       " ['', 'http://'],\n",
       " ['2017 Board Meeting Minutes', 'http://'],\n",
       " ['January 5, 2017', '/files/1.5.17_minutes.pdf'],\n",
       " ['January 26, 2017', '/files/1.26.17_minutes.pdf'],\n",
       " ['February 2, 2017', '/files/2.2.17_minutes.pdf'],\n",
       " ['February 16, 2017', '/files/2.16.17_minutes.pdf'],\n",
       " ['March 2, 2017', '/files/3.2.17__minutes.pdf'],\n",
       " ['March 16, 2017', '/files/3.16.17_minutes.pdf'],\n",
       " ['April 12, 2017', '/files/4.12.17_minutes.pdf'],\n",
       " ['May 1, 2017', '/files/5.1.17_Minutes.pdf'],\n",
       " ['May 4, 2017', '/files/5.4.17_minutes.pdf']]"
      ]
     },
     "execution_count": 13,
     "metadata": {},
     "output_type": "execute_result"
    }
   ],
   "source": [
    "### WORKING CODE WITH DIRTY RESPONSES\n",
    "minutes_list = []\n",
    "paras = soup_doc.find_all('p')[19:78]\n",
    "for para in paras[1:]:\n",
    "    minutes = []\n",
    "    link_label = para.text.replace(u'\\xa0', u'')\n",
    "    minutes.append(link_label)\n",
    "    if para.find('a'):\n",
    "        link_url = para.a['href']\n",
    "    else:\n",
    "        link_url = 'http://'\n",
    "    minutes.append(link_url)\n",
    "    minutes_list.append(minutes)\n",
    "minutes_list"
   ]
  },
  {
   "cell_type": "code",
   "execution_count": 53,
   "metadata": {},
   "outputs": [
    {
     "data": {
      "text/plain": [
       "[['link_label_raw', 'link_url', 'comment'],\n",
       " ['June 4, 2019', '/files/6.4.19_minutes.pdf'],\n",
       " ['May 28, 2019', '/files/5.28.19_minutes.pdf'],\n",
       " ['May 21, 2019 CANCELLED', 'http://'],\n",
       " ['May 7, 2019', '/files/5.7.19_minutes.pdf'],\n",
       " ['April 23, 2019', '/files/4.23.19_minutes.pdf'],\n",
       " ['April 8, 2019', '/files/4.8.19_minutes.pdf'],\n",
       " ['March 19, 2019', '/files/3.5.19_minutes.pdf'],\n",
       " ['March 5, 2019', '/files/3.5.19.pdf'],\n",
       " ['February 26, 2019', '/files/2.26.19_minutes.pdf'],\n",
       " ['February 5, 2019', '/files/2.5.19_minutes.pdf'],\n",
       " ['January 22, 2019', '/files/January_22_minutes.pdf'],\n",
       " ['January 8, 2019', '/files/January_8_minutes.pdf'],\n",
       " ['December 20, 2018', '/files/12.20.18_minutes.pdf'],\n",
       " ['December 4, 2018', '/files/12.4.18_minutes.pdf'],\n",
       " ['November 20, 2018', '/files/11.20.18.pdf'],\n",
       " ['November 7, 2018', 'http://'],\n",
       " ['October 16, 2018', 'http://'],\n",
       " ['September 25, 2018', '/files/9.25.18_minutes.pdf'],\n",
       " ['September 13, 2018', '/files/9.13.18_minutes.pdf'],\n",
       " ['September 4, 2018', '/files/9.4.18.pdf'],\n",
       " ['August 21, 2018', '/files/8.21.18_minutes.pdf'],\n",
       " ['August 7, 2018', '/files/8.7.18_minutes.pdf'],\n",
       " ['July 24, 2018', '/files/7.24.18_minutes.pdf'],\n",
       " ['July 10, 2018', '/files/7.10.18_minutes.pdf'],\n",
       " ['June 28, 2018', '/files/6.28.18.pdf'],\n",
       " ['June 22, 2018', '/files/6.22.18_minutes.pdf'],\n",
       " ['June 21, 2018', '/files/6.21.18.pdf'],\n",
       " ['June 19, 2108 ', '/files/6.19.18_minutes.pdf'],\n",
       " ['June 6, 2018', 'http://'],\n",
       " ['May 29, 2018', '/files/5.29.18_minutes.pdf'],\n",
       " ['May 22,2018', 'http://'],\n",
       " ['May 15, 2018Canceled', 'http://'],\n",
       " ['May 1, 2018', 'http://'],\n",
       " ['April 17, 2018', '/files/4.17.18.pdf'],\n",
       " ['April 2, 2018 ', '/files/april_2,_2018_minutes.pdf'],\n",
       " ['March 27, 2018', 'http://'],\n",
       " ['March 22, 2018', 'http://'],\n",
       " ['March 20, 2018', 'http://'],\n",
       " ['March 8, 2018', '/files/3.8.18.pdf'],\n",
       " ['March 6, 2018', '/files/march_6,_2018_minutes.pdf'],\n",
       " ['February 20, 2018', '/files/feb_20,_2108_minutes.pdf'],\n",
       " ['February 6, 2018', '/files/2.6.18_minutes.pdf'],\n",
       " ['January 16, 2018', '/files/january_16,_2018_minutes.pdf'],\n",
       " ['January 2, 2018', '/files/2.6.18_minutes.pdf'],\n",
       " ['January 5, 2017', '/files/1.5.17_minutes.pdf'],\n",
       " ['January 26, 2017', '/files/1.26.17_minutes.pdf'],\n",
       " ['February 2, 2017', '/files/2.2.17_minutes.pdf'],\n",
       " ['February 16, 2017', '/files/2.16.17_minutes.pdf'],\n",
       " ['March 2, 2017', '/files/3.2.17__minutes.pdf'],\n",
       " ['March 16, 2017', '/files/3.16.17_minutes.pdf'],\n",
       " ['April 12, 2017', '/files/4.12.17_minutes.pdf'],\n",
       " ['May 1, 2017', '/files/5.1.17_Minutes.pdf'],\n",
       " ['May 4, 2017', '/files/5.4.17_minutes.pdf']]"
      ]
     },
     "execution_count": 53,
     "metadata": {},
     "output_type": "execute_result"
    }
   ],
   "source": [
    "### WORKING WITH DELETED ROWS\n",
    "minutes_list = []\n",
    "paras = soup_doc.find_all('p')[19:78]\n",
    "for para in paras[1:]:\n",
    "    minutes = []\n",
    "    link_label_raw = para.text.replace(u'\\xa0', u'')\n",
    "    if not link_label_raw: \n",
    "        pass\n",
    "    elif 'Meeting' in link_label_raw:\n",
    "        pass\n",
    "    else:\n",
    "        minutes.append(link_label_raw)\n",
    "        if para.find('a'):\n",
    "            link_url = para.a['href']\n",
    "        else:\n",
    "            link_url = 'http://'\n",
    "        minutes.append(link_url)\n",
    "        minutes_list.append(minutes)\n",
    "minutes_list.insert(0,['link_label_raw','link_url','comment'])\n",
    "minutes_list"
   ]
  },
  {
   "cell_type": "code",
   "execution_count": 52,
   "metadata": {},
   "outputs": [],
   "source": [
    "### ABANDONED STRIP ATTEMPT, SWITCHING TO PANDAS FOR CLEANUP\n",
    "# minutes_list = []\n",
    "# paras = soup_doc.find_all('p')[19:78]\n",
    "# for para in paras[1:]:\n",
    "#     minutes = []\n",
    "#     link_label_raw = para.text.replace(u'\\xa0', u'')\n",
    "#     if not link_label_raw: \n",
    "#         pass\n",
    "#     elif 'Meeting' in link_label_raw:\n",
    "#         pass\n",
    "#     else:\n",
    "#         comment = re.findall(r\"\\d\\d\\d\\d(.*)\", link_label_raw)\n",
    "#         link_label = re.findall(r\"(.* \\d\\d\\d\\d)\", link_label_raw)\n",
    "# #         link_label = datetime.strptime(link_label_raw, '%B %d, %Y')\n",
    "#         if para.find('a'):\n",
    "#             link_url = para.a['href']\n",
    "#         else:\n",
    "#             comment.append('missing link')\n",
    "#         minutes.append(link_url)\n",
    "#         minutes.append(link_label)\n",
    "#         minutes.append(comment)\n",
    "#         minutes_list.append(minutes)\n",
    "# minutes_list.insert(0,['link_label','link_url','comment'])\n",
    "# minutes_list\n",
    "### *************************************************************************************************************"
   ]
  },
  {
   "cell_type": "code",
   "execution_count": 21,
   "metadata": {},
   "outputs": [
    {
     "data": {
      "text/plain": [
       "str"
      ]
     },
     "execution_count": 21,
     "metadata": {},
     "output_type": "execute_result"
    }
   ],
   "source": [
    "type(minutes_list[13][1])"
   ]
  },
  {
   "cell_type": "code",
   "execution_count": null,
   "metadata": {},
   "outputs": [],
   "source": []
  }
 ],
 "metadata": {
  "kernelspec": {
   "display_name": "Python 3",
   "language": "python",
   "name": "python3"
  },
  "language_info": {
   "codemirror_mode": {
    "name": "ipython",
    "version": 3
   },
   "file_extension": ".py",
   "mimetype": "text/x-python",
   "name": "python",
   "nbconvert_exporter": "python",
   "pygments_lexer": "ipython3",
   "version": "3.7.3"
  }
 },
 "nbformat": 4,
 "nbformat_minor": 2
}
